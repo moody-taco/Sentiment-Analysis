{
 "cells": [
  {
   "cell_type": "markdown",
   "metadata": {},
   "source": [
    "# Importing Dependencies"
   ]
  },
  {
   "cell_type": "code",
   "execution_count": 25,
   "metadata": {},
   "outputs": [
    {
     "name": "stderr",
     "output_type": "stream",
     "text": [
      "[nltk_data] Downloading package vader_lexicon to\n",
      "[nltk_data]     C:\\Users\\owner\\AppData\\Roaming\\nltk_data...\n"
     ]
    }
   ],
   "source": [
    "import pandas as pd\n",
    "import numpy as np\n",
    "import matplotlib.pyplot as plt\n",
    "import seaborn as sns\n",
    "\n",
    "plt.style.use('ggplot')\n",
    "\n",
    "import nltk\n",
    "# nltk.download('punkt')\n",
    "# nltk.download('vader_lexicon')\n",
    "from nltk.sentiment import SentimentIntensityAnalyzer\n",
    "from tqdm.notebook import tqdm"
   ]
  },
  {
   "cell_type": "markdown",
   "metadata": {},
   "source": [
    "# Reading the Data"
   ]
  },
  {
   "cell_type": "code",
   "execution_count": 12,
   "metadata": {},
   "outputs": [],
   "source": [
    "big_df = pd.read_csv('data/Reviews.csv')"
   ]
  },
  {
   "cell_type": "code",
   "execution_count": 13,
   "metadata": {},
   "outputs": [],
   "source": [
    "# Taking random 500 rows since the dataset is huge\n",
    "df = big_df.sample(500, replace = False)"
   ]
  },
  {
   "cell_type": "markdown",
   "metadata": {},
   "source": [
    "# Visualizing the Frequency of Scores"
   ]
  },
  {
   "cell_type": "code",
   "execution_count": 14,
   "metadata": {},
   "outputs": [
    {
     "data": {
      "image/png": "[encoded data removed]",
      "text/plain": [
       "<Figure size 720x360 with 1 Axes>"
      ]
     },
     "metadata": {},
     "output_type": "display_data"
    }
   ],
   "source": [
    "ax = df['Score'].value_counts().sort_index() \\\n",
    "    .plot(kind='bar',\n",
    "          title='Count of Reviews by Stars',\n",
    "          figsize=(10, 5))\n",
    "ax.set_xlabel('Review Stars')\n",
    "plt.show()"
   ]
  },
  {
   "cell_type": "markdown",
   "metadata": {},
   "source": [
    "# Using VADER"
   ]
  },
  {
   "cell_type": "markdown",
   "metadata": {},
   "source": [
    "VADER (Valence Aware Dictionary and sEntiment Reasoner) - Bag of words approach\n",
    "1. Stop words are removed like 'and', 'the', etc.\n",
    "2. Each word is scored and combined to a total score."
   ]
  },
  {
   "cell_type": "code",
   "execution_count": 26,
   "metadata": {},
   "outputs": [],
   "source": [
    "sia = SentimentIntensityAnalyzer()"
   ]
  },
  {
   "cell_type": "code",
   "execution_count": 27,
   "metadata": {},
   "outputs": [
    {
     "data": {
      "text/plain": [
       "{'neg': 0.0, 'neu': 0.318, 'pos': 0.682, 'compound': 0.6468}"
      ]
     },
     "execution_count": 27,
     "metadata": {},
     "output_type": "execute_result"
    }
   ],
   "source": [
    "# Example\n",
    "sia.polarity_scores('I am so happy!')"
   ]
  },
  {
   "cell_type": "code",
   "execution_count": 29,
   "metadata": {},
   "outputs": [
    {
     "data": {
      "application/vnd.jupyter.widget-view+json": {
       "model_id": "6142c73587ec4c8c8b8101ca6777f3a0",
       "version_major": 2,
       "version_minor": 0
      },
      "text/plain": [
       "  0%|          | 0/500 [00:00<?, ?it/s]"
      ]
     },
     "metadata": {},
     "output_type": "display_data"
    }
   ],
   "source": [
    "# Run the polarity score on the entire dataset\n",
    "res = {}\n",
    "for i, row in tqdm(df.iterrows(), total=len(df)):\n",
    "    text = row['Text']\n",
    "    myid = row['Id']\n",
    "    res[myid] = sia.polarity_scores(text)"
   ]
  },
  {
   "cell_type": "code",
   "execution_count": 34,
   "metadata": {},
   "outputs": [],
   "source": [
    "vaders = pd.DataFrame(res).T # Converting the results to a dataframe\n",
    "vaders = vaders.reset_index().rename(columns={'index': 'Id'}) # Renaming the columns so that its easy to merge with the main df\n",
    "vaders = vaders.merge(df, how='left') # Merging with the main dataframe"
   ]
  },
  {
   "cell_type": "code",
   "execution_count": 35,
   "metadata": {},
   "outputs": [
    {
     "data": {
      "text/html": [
       "<div>\n",
       "<style scoped>\n",
       "    .dataframe tbody tr th:only-of-type {\n",
       "        vertical-align: middle;\n",
       "    }\n",
       "\n",
       "    .dataframe tbody tr th {\n",
       "        vertical-align: top;\n",
       "    }\n",
       "\n",
       "    .dataframe thead th {\n",
       "        text-align: right;\n",
       "    }\n",
       "</style>\n",
       "<table border=\"1\" class=\"dataframe\">\n",
       "  <thead>\n",
       "    <tr style=\"text-align: right;\">\n",
       "      <th></th>\n",
       "      <th>Id</th>\n",
       "      <th>neg</th>\n",
       "      <th>neu</th>\n",
       "      <th>pos</th>\n",
       "      <th>compound</th>\n",
       "      <th>ProductId</th>\n",
       "      <th>UserId</th>\n",
       "      <th>ProfileName</th>\n",
       "      <th>HelpfulnessNumerator</th>\n",
       "      <th>HelpfulnessDenominator</th>\n",
       "      <th>Score</th>\n",
       "      <th>Time</th>\n",
       "      <th>Summary</th>\n",
       "      <th>Text</th>\n",
       "    </tr>\n",
       "  </thead>\n",
       "  <tbody>\n",
       "    <tr>\n",
       "      <th>0</th>\n",
       "      <td>194729</td>\n",
       "      <td>0.041</td>\n",
       "      <td>0.666</td>\n",
       "      <td>0.292</td>\n",
       "      <td>0.9152</td>\n",
       "      <td>B001MNAOPU</td>\n",
       "      <td>AGT5O56N4TLZY</td>\n",
       "      <td>C. Poore</td>\n",
       "      <td>0</td>\n",
       "      <td>0</td>\n",
       "      <td>5</td>\n",
       "      <td>1294617600</td>\n",
       "      <td>Works for me</td>\n",
       "      <td>I really love this tea.  It tastes good and ev...</td>\n",
       "    </tr>\n",
       "    <tr>\n",
       "      <th>1</th>\n",
       "      <td>538216</td>\n",
       "      <td>0.092</td>\n",
       "      <td>0.681</td>\n",
       "      <td>0.227</td>\n",
       "      <td>0.9702</td>\n",
       "      <td>B0061IUIDY</td>\n",
       "      <td>A1XG1W04F0M9QT</td>\n",
       "      <td>DAC \"Thehappynappybookseller\"</td>\n",
       "      <td>0</td>\n",
       "      <td>0</td>\n",
       "      <td>4</td>\n",
       "      <td>1340064000</td>\n",
       "      <td>Great Aroma, And Flavor</td>\n",
       "      <td>This is my first nonw book review but when Ama...</td>\n",
       "    </tr>\n",
       "    <tr>\n",
       "      <th>2</th>\n",
       "      <td>463074</td>\n",
       "      <td>0.000</td>\n",
       "      <td>0.793</td>\n",
       "      <td>0.207</td>\n",
       "      <td>0.8885</td>\n",
       "      <td>B000CQG8AS</td>\n",
       "      <td>A32NC24OM6MGHL</td>\n",
       "      <td>A. Chen \"IT guy\"</td>\n",
       "      <td>1</td>\n",
       "      <td>1</td>\n",
       "      <td>5</td>\n",
       "      <td>1238716800</td>\n",
       "      <td>Great caffeine laden tea</td>\n",
       "      <td>I've been drinking this Stash jasmine blossom ...</td>\n",
       "    </tr>\n",
       "    <tr>\n",
       "      <th>3</th>\n",
       "      <td>550562</td>\n",
       "      <td>0.069</td>\n",
       "      <td>0.645</td>\n",
       "      <td>0.285</td>\n",
       "      <td>0.9008</td>\n",
       "      <td>B003UIFL0S</td>\n",
       "      <td>A2P745KK08LUK5</td>\n",
       "      <td>Spunkey</td>\n",
       "      <td>2</td>\n",
       "      <td>2</td>\n",
       "      <td>5</td>\n",
       "      <td>1312934400</td>\n",
       "      <td>can't eat just one</td>\n",
       "      <td>I have always loved these since my childhood. ...</td>\n",
       "    </tr>\n",
       "    <tr>\n",
       "      <th>4</th>\n",
       "      <td>34928</td>\n",
       "      <td>0.035</td>\n",
       "      <td>0.901</td>\n",
       "      <td>0.065</td>\n",
       "      <td>0.2244</td>\n",
       "      <td>B002DLXXHG</td>\n",
       "      <td>A2MZWXKOGSPKW1</td>\n",
       "      <td>J. Fan</td>\n",
       "      <td>0</td>\n",
       "      <td>0</td>\n",
       "      <td>2</td>\n",
       "      <td>1267401600</td>\n",
       "      <td>Salty and dry!</td>\n",
       "      <td>Compared to Pacific Gold beef jerky, this beef...</td>\n",
       "    </tr>\n",
       "  </tbody>\n",
       "</table>\n",
       "</div>"
      ],
      "text/plain": [
       "       Id    neg    neu    pos  compound   ProductId          UserId  \\\n",
       "0  194729  0.041  0.666  0.292    0.9152  B001MNAOPU   AGT5O56N4TLZY   \n",
       "1  538216  0.092  0.681  0.227    0.9702  B0061IUIDY  A1XG1W04F0M9QT   \n",
       "2  463074  0.000  0.793  0.207    0.8885  B000CQG8AS  A32NC24OM6MGHL   \n",
       "3  550562  0.069  0.645  0.285    0.9008  B003UIFL0S  A2P745KK08LUK5   \n",
       "4   34928  0.035  0.901  0.065    0.2244  B002DLXXHG  A2MZWXKOGSPKW1   \n",
       "\n",
       "                     ProfileName  HelpfulnessNumerator  \\\n",
       "0                       C. Poore                     0   \n",
       "1  DAC \"Thehappynappybookseller\"                     0   \n",
       "2               A. Chen \"IT guy\"                     1   \n",
       "3                        Spunkey                     2   \n",
       "4                         J. Fan                     0   \n",
       "\n",
       "   HelpfulnessDenominator  Score        Time                   Summary  \\\n",
       "0                       0      5  1294617600              Works for me   \n",
       "1                       0      4  1340064000   Great Aroma, And Flavor   \n",
       "2                       1      5  1238716800  Great caffeine laden tea   \n",
       "3                       2      5  1312934400        can't eat just one   \n",
       "4                       0      2  1267401600            Salty and dry!   \n",
       "\n",
       "                                                Text  \n",
       "0  I really love this tea.  It tastes good and ev...  \n",
       "1  This is my first nonw book review but when Ama...  \n",
       "2  I've been drinking this Stash jasmine blossom ...  \n",
       "3  I have always loved these since my childhood. ...  \n",
       "4  Compared to Pacific Gold beef jerky, this beef...  "
      ]
     },
     "execution_count": 35,
     "metadata": {},
     "output_type": "execute_result"
    }
   ],
   "source": [
    "vaders.head()"
   ]
  },
  {
   "cell_type": "markdown",
   "metadata": {},
   "source": [
    "# Plotting the Results"
   ]
  },
  {
   "cell_type": "code",
   "execution_count": 36,
   "metadata": {},
   "outputs": [
    {
     "data": {
      "image/png": "[encoded data removed]",
      "text/plain": [
       "<Figure size 432x288 with 1 Axes>"
      ]
     },
     "metadata": {},
     "output_type": "display_data"
    }
   ],
   "source": [
    "ax = sns.barplot(data=vaders, x='Score', y='compound')\n",
    "ax.set_title('Compund Score by Amazon Star Review')\n",
    "plt.show()"
   ]
  },
  {
   "cell_type": "markdown",
   "metadata": {},
   "source": [
    "We can see that a 1-star review has a lower compound score and 5-star reviews have the highest, just like we expected"
   ]
  },
  {
   "cell_type": "code",
   "execution_count": 44,
   "metadata": {},
   "outputs": [
    {
     "data": {
      "image/png": "[encoded data removed]",
      "text/plain": [
       "<Figure size 1440x432 with 3 Axes>"
      ]
     },
     "metadata": {},
     "output_type": "display_data"
    }
   ],
   "source": [
    "# Breaking the above graph from compound to individual pos, neu and neg scores\n",
    "fig, axs = plt.subplots(1, 3, figsize=(20, 6))\n",
    "sns.barplot(data=vaders, x='Score', y='pos', ax=axs[0])\n",
    "sns.barplot(data=vaders, x='Score', y='neu', ax=axs[1])\n",
    "sns.barplot(data=vaders, x='Score', y='neg', ax=axs[2])\n",
    "axs[0].set_title('Positive')\n",
    "axs[1].set_title('Neutral')\n",
    "axs[2].set_title('Negative')\n",
    "plt.tight_layout()\n",
    "plt.show()"
   ]
  },
  {
   "cell_type": "markdown",
   "metadata": {},
   "source": [
    "This confirms what we anticipated"
   ]
  },
  {
   "cell_type": "code",
   "execution_count": null,
   "metadata": {},
   "outputs": [],
   "source": []
  }
 ],
 "metadata": {
  "kernelspec": {
   "display_name": "Python 3",
   "language": "python",
   "name": "python3"
  },
  "language_info": {
   "codemirror_mode": {
    "name": "ipython",
    "version": 3
   },
   "file_extension": ".py",
   "mimetype": "text/x-python",
   "name": "python",
   "nbconvert_exporter": "python",
   "pygments_lexer": "ipython3",
   "version": "3.8.10"
  }
 },
 "nbformat": 4,
 "nbformat_minor": 2
}
